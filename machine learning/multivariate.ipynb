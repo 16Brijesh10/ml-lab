{
 "cells": [
  {
   "cell_type": "code",
   "execution_count": null,
   "id": "ff6d647b",
   "metadata": {},
   "outputs": [],
   "source": [
    "import numpy as np\n",
    "import matplotlib.pyplot as plt\n",
    "from scipy.stats import multivariate_normal\n",
    "\n",
    "# Create a grid of x1 and x2 values\n",
    "x1, x2 = np.meshgrid(np.linspace(-2.5, 2.5, num=100), np.linspace(-2.5, 3.5, num=100))\n",
    "pos = np.dstack((x1, x2))\n",
    "\n",
    "# Define bivariate normal distributions\n",
    "mean_independent = [0, 0]\n",
    "covariance_independent = [[1, 0], [0, 1]]\n",
    "\n",
    "mean_correlated = [0, 1]\n",
    "covariance_correlated = [[1, 0.8], [0.8, 1]]\n",
    "\n",
    "# Create the PDFs for both distributions \n",
    "pdf_independent = multivariate_normal(mean_independent, covariance_independent)\n",
    "pdf_correlated = multivariate_normal(mean_correlated, covariance_correlated)\n",
    "\n",
    "# Create the figure and subplots\n",
    "fig, (ax1, ax2) = plt.subplots(1, 2, figsize=(12, 4))\n",
    "\n",
    "# Plot the independent bivariate distribution\n",
    "ax1.contourf(x1, x2, pdf_independent.pdf(pos), cmap='rainbow')\n",
    "ax1.set_xlabel('$x_1$', fontsize=13)\n",
    "ax1.set_ylabel('$x_2$', fontsize=13)\n",
    "ax1.set_title('Independent variables', fontsize=12)\n",
    "\n",
    "# Plot the correlated bivariate distribution\n",
    "ax2.contourf(x1, x2, pdf_correlated.pdf(pos), cmap='rainbow')\n",
    "ax2.set_xlabel('$x_1$', fontsize=13)\n",
    "ax2.set_ylabel('$x_2$', fontsize=13)\n",
    "ax2.set_title('Correlated variables', fontsize=12)\n",
    "\n",
    "# Add colorbar and title\n",
    "fig.colorbar(ax1.contourf(x1, x2, pdf_independent.pdf(pos), cmap='rainbow'),ax=ax1)\n",
    "fig.colorbar(ax2.contourf(x1, x2, pdf_correlated.pdf(pos), cmap='rainbow'),ax=ax2)\n",
    "\n",
    "plt.suptitle('Bivariate normal distributions', fontsize=13)\n",
    "plt.savefig('Bivariate_normal_distribution.png')\n",
    "plt.show()\n"
   ]
  }
 ],
 "metadata": {
  "kernelspec": {
   "display_name": "Python 3 (ipykernel)",
   "language": "python",
   "name": "python3"
  },
  "language_info": {
   "codemirror_mode": {
    "name": "ipython",
    "version": 3
   },
   "file_extension": ".py",
   "mimetype": "text/x-python",
   "name": "python",
   "nbconvert_exporter": "python",
   "pygments_lexer": "ipython3",
   "version": "3.9.13"
  }
 },
 "nbformat": 4,
 "nbformat_minor": 5
}
